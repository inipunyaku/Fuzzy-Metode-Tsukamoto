{
  "nbformat": 4,
  "nbformat_minor": 0,
  "metadata": {
    "colab": {
      "name": "UTS 1197050085 Muhammad Farhan Fadila Umam.ipynb",
      "provenance": [],
      "collapsed_sections": [],
      "authorship_tag": "ABX9TyNUUGNbwxiXr1uCRw4olL8r",
      "include_colab_link": true
    },
    "kernelspec": {
      "name": "python3",
      "display_name": "Python 3"
    },
    "language_info": {
      "name": "python"
    }
  },
  "cells": [
    {
      "cell_type": "markdown",
      "metadata": {
        "id": "view-in-github",
        "colab_type": "text"
      },
      "source": [
        "<a href=\"https://colab.research.google.com/github/inipunyaku/Fuzzy-Metode-Tsukamoto/blob/main/UTS_1197050085_Muhammad_Farhan_Fadila_Umam.ipynb\" target=\"_parent\"><img src=\"https://colab.research.google.com/assets/colab-badge.svg\" alt=\"Open In Colab\"/></a>"
      ]
    },
    {
      "cell_type": "code",
      "metadata": {
        "id": "-DltroshSxlN"
      },
      "source": [
        "# NIM : 1197050085\n",
        "# NAMA : MUHAMMAD FARHAN FADILA UMAM\n",
        "--------------------------------------\n",
        "#bekerja sama dengan : \n",
        "# NIM : 1197050102\n",
        "# NAMA : NURUL AULIA DEWI"
      ],
      "execution_count": null,
      "outputs": []
    },
    {
      "cell_type": "code",
      "metadata": {
        "id": "KM6_YOjcTFf8"
      },
      "source": [
        "#INISIALISASI\n",
        "#diketahui:\n",
        "Banyak = [5000,600,7000]  #permintaan, Persediaan, Produksi\n",
        "Sedikit = [1000,100,2000] #permintaan, Persediaan, Produksi\n",
        "\n",
        "#pengandain:\n",
        "x=[4000,300] #permintaan, Persediaan,"
      ],
      "execution_count": 2,
      "outputs": []
    },
    {
      "cell_type": "code",
      "metadata": {
        "colab": {
          "base_uri": "https://localhost:8080/"
        },
        "id": "1Vl9UOkVUM17",
        "outputId": "946ed7a0-43ef-49e8-c2d6-5844f4a25339"
      },
      "source": [
        "#fuzzifikasi\n",
        "def rumus_fuzzifikasi_turun(a,b,c):\n",
        "  hasil=(a-b)/(a-c)\n",
        "  return hasil\n",
        "  \n",
        "def rumus_fuzzifikasi_naik(a,b,c):\n",
        "  hasil = (b-c)/(a-c)\n",
        "  return hasil\n",
        "\n",
        "\n",
        "MbanyakNaik=[0,0]\n",
        "MbanyakTurun=[0,0]\n",
        "ket = [\"permintaan\",\"produksi\"]\n",
        "for i in range(2):\n",
        "  MbanyakNaik[i] = rumus_fuzzifikasi_naik(Banyak[i], x[i], Sedikit[i])\n",
        "  MbanyakTurun[i] = rumus_fuzzifikasi_turun(Banyak[i], x[i], Sedikit[i])\n",
        "  print (\"Hasil Fuzzikasi \"+ket[i]+\" Naik :\"+str(MbanyakNaik[i]))\n",
        "  print (\"Hasil Fuzzikasi \"+ket[i]+\" Turun :\"+str(MbanyakTurun[i]))\n"
      ],
      "execution_count": 3,
      "outputs": [
        {
          "output_type": "stream",
          "name": "stdout",
          "text": [
            "Hasil Fuzzikasi permintaan Naik :0.75\n",
            "Hasil Fuzzikasi permintaan Turun :0.25\n",
            "Hasil Fuzzikasi produksi Naik :0.4\n",
            "Hasil Fuzzikasi produksi Turun :0.6\n"
          ]
        }
      ]
    },
    {
      "cell_type": "code",
      "metadata": {
        "colab": {
          "base_uri": "https://localhost:8080/"
        },
        "id": "84PMXPhooHN9",
        "outputId": "93caa860-d4ff-41c0-a3d3-d7ce02fb97d0"
      },
      "source": [
        "#inferensi\n",
        "def rumus_z_hasil_turun(a):\n",
        "  hasil = Banyak[2]-a*(Banyak[2]-Sedikit[2])\n",
        "  return hasil\n",
        "\n",
        "def rumus_z_hasil_naik(b):\n",
        "  hasil = b* (Banyak[2] - Sedikit[2]) +Sedikit[2]\n",
        "  return hasil\n",
        "\n",
        "a_pred=[0,0,0,0]\n",
        "z=[0,0,0,0]\n",
        "print(\"Hasil Inferensi : \")\n",
        "for i in range (4):\n",
        "  if (i+1==1):\n",
        "    #RULE 1 jika permintaan TURUN dan Persediaan banya maka produksi berkurang\n",
        "    a_pred[i]= min(MbanyakTurun[0], MbanyakNaik[1])\n",
        "    z[i]=rumus_z_hasil_turun(a_pred[i])\n",
        "  if(i+1==2):\n",
        "    #rule2 jika permintaan TURUN dan persediaan SEDIKIT maka produksi barang berkurang\n",
        "    a_pred[i] = min(MbanyakTurun[0], MbanyakTurun[1])\n",
        "    z[i]=rumus_z_hasil_turun(a_pred[i])\n",
        "  if(i+1==3):\n",
        "    #rule3 jika permintaan Naik dan Persediaan Banyak maka produksi bertambah\n",
        "    a_pred[i]=min (MbanyakNaik[0],MbanyakNaik[1])\n",
        "    z[i] = rumus_z_hasil_naik(a_pred[i])\n",
        "  if(i+1==4):\n",
        "    #rule jika permintaan naik dan persediaan sedikit maka produksi bertambah\n",
        "    a_pred[i] = min(MbanyakNaik[0], MbanyakTurun[1])\n",
        "    z[i] = rumus_z_hasil_naik(a_pred[i])\n",
        "  print(\"\\n----- Rule \"+str((i+1))+\" -----\")\n",
        "  print(\"Alpha Predikat : \"+str(a_pred[i]))\n",
        "  print(\"Z : \"+str(z[i]))    "
      ],
      "execution_count": 4,
      "outputs": [
        {
          "output_type": "stream",
          "name": "stdout",
          "text": [
            "Hasil Inferensi : \n",
            "\n",
            "----- Rule 1 -----\n",
            "Alpha Predikat : 0.25\n",
            "Z : 5750.0\n",
            "\n",
            "----- Rule 2 -----\n",
            "Alpha Predikat : 0.25\n",
            "Z : 5750.0\n",
            "\n",
            "----- Rule 3 -----\n",
            "Alpha Predikat : 0.4\n",
            "Z : 4000.0\n",
            "\n",
            "----- Rule 4 -----\n",
            "Alpha Predikat : 0.6\n",
            "Z : 5000.0\n"
          ]
        }
      ]
    },
    {
      "cell_type": "code",
      "metadata": {
        "colab": {
          "base_uri": "https://localhost:8080/"
        },
        "id": "AL6nOnDB1iax",
        "outputId": "410afc46-4bb8-4eef-a0f5-bbe63ce376ed"
      },
      "source": [
        "#Defuzzifikasi\n",
        "zatas=0\n",
        "zbawah=0\n",
        "\n",
        "for i in range(4):\n",
        "  zatas += float(a_pred[i])*float(z[i])\n",
        "  zbawah=zbawah+a_pred[i]\n",
        "zhasil=zatas/zbawah\n",
        "print(str(zatas)+\" : \"+str(zbawah)+\" = \"+str(zhasil))\n",
        "print(\"Maka Hasil Produksi yang akan dibuat jika permintaan 4000 dan persediaan 300 adalah \"+str(int(zhasil)))\n"
      ],
      "execution_count": 5,
      "outputs": [
        {
          "output_type": "stream",
          "name": "stdout",
          "text": [
            "7475.0 : 1.5 = 4983.333333333333\n",
            "Maka Hasil Produksi yang akan dibuat jika permintaan 4000 dan persediaan 300 adalah 4983\n"
          ]
        }
      ]
    }
  ]
}